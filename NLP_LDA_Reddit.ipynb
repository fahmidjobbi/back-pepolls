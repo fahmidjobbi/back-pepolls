{
  "nbformat": 4,
  "nbformat_minor": 0,
  "metadata": {
    "colab": {
      "provenance": [],
      "mount_file_id": "1Aa5OQPkhKJepCL3pRViq_zdH-vQ5wDCG",
      "authorship_tag": "ABX9TyPwRNnI/nwG7uPqo6fajJWd",
      "include_colab_link": true
    },
    "kernelspec": {
      "name": "python3",
      "display_name": "Python 3"
    },
    "language_info": {
      "name": "python"
    },
    "accelerator": "TPU",
    "gpuClass": "standard"
  },
  "cells": [
    {
      "cell_type": "markdown",
      "metadata": {
        "id": "view-in-github",
        "colab_type": "text"
      },
      "source": [
        "<a href=\"https://colab.research.google.com/github/fahmidjobbi/back-pepolls/blob/main/NLP_LDA_Reddit.ipynb\" target=\"_parent\"><img src=\"https://colab.research.google.com/assets/colab-badge.svg\" alt=\"Open In Colab\"/></a>"
      ]
    },
    {
      "cell_type": "code",
      "execution_count": null,
      "metadata": {
        "colab": {
          "base_uri": "https://localhost:8080/",
          "height": 424
        },
        "id": "ovXLFdttzwaJ",
        "outputId": "fb8495b0-15e2-46e2-bc1b-bde5dcf930ec"
      },
      "outputs": [
        {
          "output_type": "execute_result",
          "data": {
            "text/plain": [
              "                                                   Title  \\\n",
              "0           VVTokens: Financial Services More Accessible   \n",
              "1      We just raised USD 30M to make Contra the plat...   \n",
              "2      I built a website that teaches anyone who has ...   \n",
              "3                   We made $2,5M with content marketing   \n",
              "4      After more than a year of design & coding we l...   \n",
              "...                                                  ...   \n",
              "25175  Adding r/baseball as a default community for t...   \n",
              "25176           Sunsetting Secret Santa and Reddit Gifts   \n",
              "25177  New addition to site-wide rules regarding the ...   \n",
              "25178             Debate, dissent, and protest on Reddit   \n",
              "25179                      Removing harassing subreddits   \n",
              "\n",
              "                                               Post Text      Subreddit  \\\n",
              "0      The​ ​Token​ ​to Make Electronic Financial Ser...        startup   \n",
              "1      https://www.reddit.com/r/startups/comments/lqp...        startup   \n",
              "2      I've been working with all kinds of early-stag...        startup   \n",
              "3      This is a true story!\\n\\nThe backbone of our c...        startup   \n",
              "4      Logology ([https://www.logology.co](https://ww...        startup   \n",
              "...                                                  ...            ...   \n",
              "25175  The baseball postseason is already underway! A...  announcements   \n",
              "25176  Today is a difficult one:. 2021 will be the la...  announcements   \n",
              "25177  Hello All—\\n\\nWe want to let you know that we ...  announcements   \n",
              "25178  Hey everyone–\\n\\nThe pandemic has been extreme...  announcements   \n",
              "25179  Today we are announcing a change in community ...  announcements   \n",
              "\n",
              "                                         Post_lemmatized  \n",
              "0      ['make', 'electronic', 'financial', 'service',...  \n",
              "1                                                     []  \n",
              "2      ['ve', 'work', 'kind', 'earlystage', 'startup'...  \n",
              "3      ['true', 'story', 'backbone', 'company', 'succ...  \n",
              "4      ['logology', 'httpswwwlogologycohttpswwwlogolo...  \n",
              "...                                                  ...  \n",
              "25175  ['baseball', 'postseason', 'already', 'underwa...  \n",
              "25176  ['today', 'difficult', 'last', 'year', 'reddit...  \n",
              "25177  ['want', 'let', 'know', 'make', 'new', 'additi...  \n",
              "25178  ['pandemic', 'extremely', 'hard', 'many', 'bel...  \n",
              "25179  ['today', 'announce', 'change', 'community', '...  \n",
              "\n",
              "[25180 rows x 4 columns]"
            ],
            "text/html": [
              "\n",
              "  <div id=\"df-cf2d40a0-fe80-43f4-bb0e-94fa8748abcf\">\n",
              "    <div class=\"colab-df-container\">\n",
              "      <div>\n",
              "<style scoped>\n",
              "    .dataframe tbody tr th:only-of-type {\n",
              "        vertical-align: middle;\n",
              "    }\n",
              "\n",
              "    .dataframe tbody tr th {\n",
              "        vertical-align: top;\n",
              "    }\n",
              "\n",
              "    .dataframe thead th {\n",
              "        text-align: right;\n",
              "    }\n",
              "</style>\n",
              "<table border=\"1\" class=\"dataframe\">\n",
              "  <thead>\n",
              "    <tr style=\"text-align: right;\">\n",
              "      <th></th>\n",
              "      <th>Title</th>\n",
              "      <th>Post Text</th>\n",
              "      <th>Subreddit</th>\n",
              "      <th>Post_lemmatized</th>\n",
              "    </tr>\n",
              "  </thead>\n",
              "  <tbody>\n",
              "    <tr>\n",
              "      <th>0</th>\n",
              "      <td>VVTokens: Financial Services More Accessible</td>\n",
              "      <td>The​ ​Token​ ​to Make Electronic Financial Ser...</td>\n",
              "      <td>startup</td>\n",
              "      <td>['make', 'electronic', 'financial', 'service',...</td>\n",
              "    </tr>\n",
              "    <tr>\n",
              "      <th>1</th>\n",
              "      <td>We just raised USD 30M to make Contra the plat...</td>\n",
              "      <td>https://www.reddit.com/r/startups/comments/lqp...</td>\n",
              "      <td>startup</td>\n",
              "      <td>[]</td>\n",
              "    </tr>\n",
              "    <tr>\n",
              "      <th>2</th>\n",
              "      <td>I built a website that teaches anyone who has ...</td>\n",
              "      <td>I've been working with all kinds of early-stag...</td>\n",
              "      <td>startup</td>\n",
              "      <td>['ve', 'work', 'kind', 'earlystage', 'startup'...</td>\n",
              "    </tr>\n",
              "    <tr>\n",
              "      <th>3</th>\n",
              "      <td>We made $2,5M with content marketing</td>\n",
              "      <td>This is a true story!\\n\\nThe backbone of our c...</td>\n",
              "      <td>startup</td>\n",
              "      <td>['true', 'story', 'backbone', 'company', 'succ...</td>\n",
              "    </tr>\n",
              "    <tr>\n",
              "      <th>4</th>\n",
              "      <td>After more than a year of design &amp; coding we l...</td>\n",
              "      <td>Logology ([https://www.logology.co](https://ww...</td>\n",
              "      <td>startup</td>\n",
              "      <td>['logology', 'httpswwwlogologycohttpswwwlogolo...</td>\n",
              "    </tr>\n",
              "    <tr>\n",
              "      <th>...</th>\n",
              "      <td>...</td>\n",
              "      <td>...</td>\n",
              "      <td>...</td>\n",
              "      <td>...</td>\n",
              "    </tr>\n",
              "    <tr>\n",
              "      <th>25175</th>\n",
              "      <td>Adding r/baseball as a default community for t...</td>\n",
              "      <td>The baseball postseason is already underway! A...</td>\n",
              "      <td>announcements</td>\n",
              "      <td>['baseball', 'postseason', 'already', 'underwa...</td>\n",
              "    </tr>\n",
              "    <tr>\n",
              "      <th>25176</th>\n",
              "      <td>Sunsetting Secret Santa and Reddit Gifts</td>\n",
              "      <td>Today is a difficult one:. 2021 will be the la...</td>\n",
              "      <td>announcements</td>\n",
              "      <td>['today', 'difficult', 'last', 'year', 'reddit...</td>\n",
              "    </tr>\n",
              "    <tr>\n",
              "      <th>25177</th>\n",
              "      <td>New addition to site-wide rules regarding the ...</td>\n",
              "      <td>Hello All—\\n\\nWe want to let you know that we ...</td>\n",
              "      <td>announcements</td>\n",
              "      <td>['want', 'let', 'know', 'make', 'new', 'additi...</td>\n",
              "    </tr>\n",
              "    <tr>\n",
              "      <th>25178</th>\n",
              "      <td>Debate, dissent, and protest on Reddit</td>\n",
              "      <td>Hey everyone–\\n\\nThe pandemic has been extreme...</td>\n",
              "      <td>announcements</td>\n",
              "      <td>['pandemic', 'extremely', 'hard', 'many', 'bel...</td>\n",
              "    </tr>\n",
              "    <tr>\n",
              "      <th>25179</th>\n",
              "      <td>Removing harassing subreddits</td>\n",
              "      <td>Today we are announcing a change in community ...</td>\n",
              "      <td>announcements</td>\n",
              "      <td>['today', 'announce', 'change', 'community', '...</td>\n",
              "    </tr>\n",
              "  </tbody>\n",
              "</table>\n",
              "<p>25180 rows × 4 columns</p>\n",
              "</div>\n",
              "      <button class=\"colab-df-convert\" onclick=\"convertToInteractive('df-cf2d40a0-fe80-43f4-bb0e-94fa8748abcf')\"\n",
              "              title=\"Convert this dataframe to an interactive table.\"\n",
              "              style=\"display:none;\">\n",
              "        \n",
              "  <svg xmlns=\"http://www.w3.org/2000/svg\" height=\"24px\"viewBox=\"0 0 24 24\"\n",
              "       width=\"24px\">\n",
              "    <path d=\"M0 0h24v24H0V0z\" fill=\"none\"/>\n",
              "    <path d=\"M18.56 5.44l.94 2.06.94-2.06 2.06-.94-2.06-.94-.94-2.06-.94 2.06-2.06.94zm-11 1L8.5 8.5l.94-2.06 2.06-.94-2.06-.94L8.5 2.5l-.94 2.06-2.06.94zm10 10l.94 2.06.94-2.06 2.06-.94-2.06-.94-.94-2.06-.94 2.06-2.06.94z\"/><path d=\"M17.41 7.96l-1.37-1.37c-.4-.4-.92-.59-1.43-.59-.52 0-1.04.2-1.43.59L10.3 9.45l-7.72 7.72c-.78.78-.78 2.05 0 2.83L4 21.41c.39.39.9.59 1.41.59.51 0 1.02-.2 1.41-.59l7.78-7.78 2.81-2.81c.8-.78.8-2.07 0-2.86zM5.41 20L4 18.59l7.72-7.72 1.47 1.35L5.41 20z\"/>\n",
              "  </svg>\n",
              "      </button>\n",
              "      \n",
              "  <style>\n",
              "    .colab-df-container {\n",
              "      display:flex;\n",
              "      flex-wrap:wrap;\n",
              "      gap: 12px;\n",
              "    }\n",
              "\n",
              "    .colab-df-convert {\n",
              "      background-color: #E8F0FE;\n",
              "      border: none;\n",
              "      border-radius: 50%;\n",
              "      cursor: pointer;\n",
              "      display: none;\n",
              "      fill: #1967D2;\n",
              "      height: 32px;\n",
              "      padding: 0 0 0 0;\n",
              "      width: 32px;\n",
              "    }\n",
              "\n",
              "    .colab-df-convert:hover {\n",
              "      background-color: #E2EBFA;\n",
              "      box-shadow: 0px 1px 2px rgba(60, 64, 67, 0.3), 0px 1px 3px 1px rgba(60, 64, 67, 0.15);\n",
              "      fill: #174EA6;\n",
              "    }\n",
              "\n",
              "    [theme=dark] .colab-df-convert {\n",
              "      background-color: #3B4455;\n",
              "      fill: #D2E3FC;\n",
              "    }\n",
              "\n",
              "    [theme=dark] .colab-df-convert:hover {\n",
              "      background-color: #434B5C;\n",
              "      box-shadow: 0px 1px 3px 1px rgba(0, 0, 0, 0.15);\n",
              "      filter: drop-shadow(0px 1px 2px rgba(0, 0, 0, 0.3));\n",
              "      fill: #FFFFFF;\n",
              "    }\n",
              "  </style>\n",
              "\n",
              "      <script>\n",
              "        const buttonEl =\n",
              "          document.querySelector('#df-cf2d40a0-fe80-43f4-bb0e-94fa8748abcf button.colab-df-convert');\n",
              "        buttonEl.style.display =\n",
              "          google.colab.kernel.accessAllowed ? 'block' : 'none';\n",
              "\n",
              "        async function convertToInteractive(key) {\n",
              "          const element = document.querySelector('#df-cf2d40a0-fe80-43f4-bb0e-94fa8748abcf');\n",
              "          const dataTable =\n",
              "            await google.colab.kernel.invokeFunction('convertToInteractive',\n",
              "                                                     [key], {});\n",
              "          if (!dataTable) return;\n",
              "\n",
              "          const docLinkHtml = 'Like what you see? Visit the ' +\n",
              "            '<a target=\"_blank\" href=https://colab.research.google.com/notebooks/data_table.ipynb>data table notebook</a>'\n",
              "            + ' to learn more about interactive tables.';\n",
              "          element.innerHTML = '';\n",
              "          dataTable['output_type'] = 'display_data';\n",
              "          await google.colab.output.renderOutput(dataTable, element);\n",
              "          const docLink = document.createElement('div');\n",
              "          docLink.innerHTML = docLinkHtml;\n",
              "          element.appendChild(docLink);\n",
              "        }\n",
              "      </script>\n",
              "    </div>\n",
              "  </div>\n",
              "  "
            ]
          },
          "metadata": {},
          "execution_count": 3
        }
      ],
      "source": [
        "import pandas as pd\n",
        "\n",
        "# read the CSV file into a DataFrame\n",
        "df = pd.read_csv('/content/drive/MyDrive/Clean_Data_NLP.csv')\n",
        "\n",
        "# print the first 5 rows of the DataFrame\n",
        "\n",
        "df\n"
      ]
    },
    {
      "cell_type": "code",
      "source": [
        "import pandas as pd\n",
        "from sklearn.model_selection import train_test_split\n",
        "\n",
        "\n",
        "# Shuffle the rows of the DataFrame\n",
        "df = df.sample(frac=1, random_state=42)\n",
        "\n",
        "# Split the DataFrame into training and testing subsets\n",
        "train_df, test_df = train_test_split(df, test_size=0.2, random_state=42)\n",
        "\n",
        "\n"
      ],
      "metadata": {
        "id": "o8l5rpLd229T"
      },
      "execution_count": null,
      "outputs": []
    },
    {
      "cell_type": "code",
      "source": [
        "print(train_df.shape)\n",
        "print(test_df.shape)"
      ],
      "metadata": {
        "colab": {
          "base_uri": "https://localhost:8080/"
        },
        "id": "TbhwHKiu3cwN",
        "outputId": "2328ee6a-5028-4dc8-dee1-2ed48b3f196c"
      },
      "execution_count": null,
      "outputs": [
        {
          "output_type": "stream",
          "name": "stdout",
          "text": [
            "(20144, 4)\n",
            "(5036, 4)\n"
          ]
        }
      ]
    },
    {
      "cell_type": "code",
      "source": [
        "# Common data handling libraries\n",
        "import os\n",
        "import string\n",
        "import pandas as pd\n",
        "import numpy as np\n",
        "import glob\n",
        "import pickle\n",
        "\n",
        "# Gensim for LDA\n",
        "import gensim\n",
        "\n",
        "# NLTK for test processing\n",
        "import nltk\n",
        "nltk.download('stopwords')\n",
        "\n",
        "# spacy for Lemmatization\n",
        "import spacy\n",
        "\n",
        "# Visualization\n",
        "import matplotlib.pyplot as plt\n",
        "\n",
        "# Deep learning modeling\n",
        "import keras\n",
        "\n",
        "# Model evaluation metrics\n",
        "import sklearn"
      ],
      "metadata": {
        "colab": {
          "base_uri": "https://localhost:8080/"
        },
        "id": "IPICWqee4IPi",
        "outputId": "d6866506-932a-467e-c118-bc9b886eec29"
      },
      "execution_count": null,
      "outputs": [
        {
          "output_type": "stream",
          "name": "stderr",
          "text": [
            "[nltk_data] Downloading package stopwords to /root/nltk_data...\n",
            "[nltk_data]   Unzipping corpora/stopwords.zip.\n"
          ]
        }
      ]
    },
    {
      "cell_type": "code",
      "source": [
        "import gensim\n",
        "import pandas as pd\n",
        "\n",
        "\n",
        "# Split the strings in 'Post_lemmatized' column into lists of tokens\n",
        "train_df['Post_lemmatized'] = train_df['Post_lemmatized'].apply(lambda x: x.split())\n",
        "\n",
        "# Create Dictionary\n",
        "id2word = gensim.corpora.Dictionary(train_df['Post_lemmatized'])\n",
        "\n",
        "# Term Document Frequency\n",
        "corpus = [id2word.doc2bow(text) for text in train_df['Post_lemmatized']]\n",
        "\n",
        "# View\n",
        "print(corpus[:1])\n",
        "\n",
        "# Human readable format of corpus (term-frequency)\n",
        "print([[(id2word[id], freq) for id, freq in cp] for cp in corpus[:1]])\n"
      ],
      "metadata": {
        "colab": {
          "base_uri": "https://localhost:8080/"
        },
        "id": "of1bnwu93jL5",
        "outputId": "350aadbb-06dd-43b0-f516-cb428aca3d3b"
      },
      "execution_count": null,
      "outputs": [
        {
          "output_type": "stream",
          "name": "stdout",
          "text": [
            "[[(0, 1), (1, 1), (2, 1), (3, 1), (4, 1), (5, 1), (6, 1), (7, 1), (8, 1), (9, 1), (10, 1), (11, 1), (12, 1), (13, 1), (14, 1), (15, 1), (16, 1), (17, 1), (18, 2), (19, 1), (20, 1), (21, 1), (22, 1), (23, 11), (24, 1), (25, 1), (26, 1), (27, 3), (28, 1), (29, 1), (30, 1), (31, 1), (32, 1), (33, 1), (34, 1), (35, 1), (36, 1), (37, 1), (38, 1), (39, 1), (40, 3), (41, 1), (42, 2), (43, 1), (44, 1), (45, 4), (46, 1), (47, 1), (48, 3), (49, 1), (50, 1), (51, 1), (52, 2), (53, 1), (54, 1), (55, 1), (56, 1), (57, 1), (58, 1), (59, 1), (60, 1), (61, 1), (62, 1), (63, 3), (64, 2), (65, 1), (66, 1), (67, 1), (68, 1), (69, 1), (70, 1), (71, 1), (72, 1), (73, 1), (74, 1), (75, 3), (76, 1), (77, 1), (78, 2), (79, 1), (80, 2), (81, 1), (82, 1), (83, 1), (84, 1), (85, 1), (86, 1), (87, 1), (88, 1), (89, 1), (90, 2), (91, 1), (92, 1), (93, 1), (94, 1), (95, 2), (96, 1), (97, 1), (98, 1), (99, 1), (100, 1), (101, 1), (102, 1), (103, 4), (104, 1), (105, 1), (106, 2), (107, 1), (108, 1)]]\n",
            "[[(\"'adviceguidance',\", 1), (\"'angel',\", 1), (\"'ask',\", 1), (\"'base',\", 1), (\"'basically',\", 1), (\"'become',\", 1), (\"'biomaterial',\", 1), (\"'build',\", 1), (\"'burn',\", 1), (\"'business',\", 1), (\"'care',\", 1), (\"'carewound',\", 1), (\"'chunk',\", 1), (\"'claim',\", 1), (\"'club',\", 1), (\"'come',\", 1), (\"'competition',\", 1), (\"'connection',\", 1), (\"'contact',\", 2), (\"'couple',\", 1), (\"'crazy',\", 1), (\"'create',\", 1), (\"'currently',\", 1), (\"'device',\", 11), (\"'email',\", 1), (\"'eventually',\", 1), (\"'expect',\", 1), (\"'file',\", 3), (\"'finalist',\", 1), (\"'finally',\", 1), (\"'find',\", 1), (\"'first',\", 1), (\"'get',\", 1), (\"'give',\", 1), (\"'global',\", 1), (\"'group',\", 1), (\"'happen',\", 1), (\"'head',\", 1), (\"'healing',\", 1), (\"'healthy',\", 1), (\"'help',\", 3), (\"'hi',\", 1), (\"'high',\", 2), (\"'hope',\", 1), (\"'imagine',\", 1), (\"'improve',\", 4), (\"'increase',\", 1), (\"'initial',\", 1), (\"'interested',\", 3), (\"'involve',\", 1), (\"'ip',\", 1), (\"'join',\", 1), (\"'know',\", 2), (\"'lab',\", 1), (\"'large',\", 1), (\"'last',\", 1), (\"'launch',\", 1), (\"'leave',\", 1), (\"'local',\", 1), (\"'locate',\", 1), (\"'look',\", 1), (\"'many',\", 1), (\"'market',\", 1), (\"'medical',\", 3), (\"'mentor',\", 2), (\"'mentoradviser',\", 1), (\"'money',\", 1), (\"'much',\", 1), (\"'nationalinternational',\", 1), (\"'need',\", 1), (\"'network',\", 1), (\"'next',\", 1), (\"'option',\", 1), (\"'outside',\", 1), (\"'owner',\", 1), (\"'patent',\", 3), (\"'plan',\", 1), (\"'process',\", 1), (\"'professor',\", 2), (\"'prototype',\", 1), (\"'provisional',\", 2), (\"'pursue',\", 1), (\"'question',\", 1), (\"'raise',\", 1), (\"'really',\", 1), (\"'research',\", 1), (\"'researcher',\", 1), (\"'resource',\", 1), (\"'right',\", 1), (\"'safe',\", 1), (\"'school',\", 2), (\"'senior',\", 1), (\"'size',\", 1), (\"'sole',\", 1), (\"'stakeholder',\", 1), (\"'startup',\", 2), (\"'step',\", 1), (\"'summer',\", 1), (\"'sure',\", 1), (\"'take',\", 1), (\"'tell',\", 1), (\"'thank']\", 1), (\"'time',\", 1), (\"'try',\", 4), (\"'use',\", 1), (\"'want',\", 1), (\"'work',\", 2), (\"'wound',\", 1), (\"['medical',\", 1)]]\n"
          ]
        }
      ]
    },
    {
      "cell_type": "code",
      "source": [
        "import gensim\n",
        "import pandas as pd\n",
        "from keras.preprocessing.text import Tokenizer\n",
        "from tensorflow.keras.preprocessing.sequence import pad_sequences\n",
        "\n",
        "from keras.models import Sequential\n",
        "from keras.layers import Embedding, Conv1D, GlobalMaxPooling1D, Dense\n",
        "\n",
        "\n",
        "# Train LDA model\n",
        "lda_model = gensim.models.ldamodel.LdaModel(corpus=corpus, id2word=id2word, num_topics=5, passes=10)\n",
        "\n",
        "\n"
      ],
      "metadata": {
        "id": "7iSotVAO6xTE"
      },
      "execution_count": null,
      "outputs": []
    },
    {
      "cell_type": "code",
      "source": [
        "# Extract LDA topic features for each post\n",
        "lda_features = []\n",
        "for text in df['Post_lemmatized']:\n",
        "    tokens = text.split()  # convert text string to list of tokens\n",
        "    lda_topic_probs = lda_model.get_document_topics(id2word.doc2bow(tokens), minimum_probability=0)\n",
        "    lda_topic_probs = [p for _, p in lda_topic_probs]\n",
        "    lda_features.append(lda_topic_probs)\n",
        "\n",
        "# Preprocess text data for CNN\n",
        "tokenizer = Tokenizer(num_words=10000)\n",
        "tokenizer.fit_on_texts(df['Post_lemmatized'])\n",
        "sequences = tokenizer.texts_to_sequences(df['Post_lemmatized'])\n",
        "X = pad_sequences(sequences, maxlen=500)\n",
        "\n",
        "# Train CNN model\n",
        "model = Sequential()\n",
        "model.add(Embedding(input_dim=10000, output_dim=100, input_length=500))\n",
        "model.add(Conv1D(filters=128, kernel_size=5, activation='relu'))\n",
        "model.add(GlobalMaxPooling1D())\n",
        "model.add(Dense(units=5, activation='softmax'))\n",
        "model.compile(loss='categorical_crossentropy', optimizer='adam', metrics=['accuracy'])\n",
        "model.fit(X, pd.get_dummies(df['Subreddit']), batch_size=64, epochs=25, validation_split=0.1)\n",
        "\n"
      ],
      "metadata": {
        "colab": {
          "base_uri": "https://localhost:8080/"
        },
        "id": "fe2-m1TX7DXG",
        "outputId": "b9046e6b-10ea-4413-bb8f-68c563fba66a"
      },
      "execution_count": null,
      "outputs": [
        {
          "output_type": "stream",
          "name": "stdout",
          "text": [
            "Epoch 1/25\n",
            "355/355 [==============================] - 91s 253ms/step - loss: 0.2871 - accuracy: 0.9212 - val_loss: 0.0297 - val_accuracy: 0.9940\n",
            "Epoch 2/25\n",
            "355/355 [==============================] - 89s 252ms/step - loss: 0.0113 - accuracy: 0.9977 - val_loss: 0.0180 - val_accuracy: 0.9964\n",
            "Epoch 3/25\n",
            "355/355 [==============================] - 89s 251ms/step - loss: 0.0067 - accuracy: 0.9986 - val_loss: 0.0140 - val_accuracy: 0.9964\n",
            "Epoch 4/25\n",
            "355/355 [==============================] - 88s 247ms/step - loss: 0.0060 - accuracy: 0.9986 - val_loss: 0.0142 - val_accuracy: 0.9964\n",
            "Epoch 5/25\n",
            "355/355 [==============================] - 89s 251ms/step - loss: 0.0055 - accuracy: 0.9986 - val_loss: 0.0138 - val_accuracy: 0.9964\n",
            "Epoch 6/25\n",
            "355/355 [==============================] - 89s 251ms/step - loss: 0.0054 - accuracy: 0.9986 - val_loss: 0.0142 - val_accuracy: 0.9964\n",
            "Epoch 7/25\n",
            "355/355 [==============================] - 88s 248ms/step - loss: 0.0055 - accuracy: 0.9986 - val_loss: 0.0135 - val_accuracy: 0.9964\n",
            "Epoch 8/25\n",
            "355/355 [==============================] - 89s 250ms/step - loss: 0.0053 - accuracy: 0.9986 - val_loss: 0.0131 - val_accuracy: 0.9964\n",
            "Epoch 9/25\n",
            "355/355 [==============================] - 89s 251ms/step - loss: 0.0054 - accuracy: 0.9986 - val_loss: 0.0137 - val_accuracy: 0.9964\n",
            "Epoch 10/25\n",
            "355/355 [==============================] - 89s 251ms/step - loss: 0.0054 - accuracy: 0.9986 - val_loss: 0.0140 - val_accuracy: 0.9964\n",
            "Epoch 11/25\n",
            "355/355 [==============================] - 88s 247ms/step - loss: 0.0056 - accuracy: 0.9986 - val_loss: 0.0127 - val_accuracy: 0.9964\n",
            "Epoch 12/25\n",
            "355/355 [==============================] - 89s 251ms/step - loss: 0.0052 - accuracy: 0.9986 - val_loss: 0.0130 - val_accuracy: 0.9964\n",
            "Epoch 13/25\n",
            "355/355 [==============================] - 89s 251ms/step - loss: 0.0052 - accuracy: 0.9986 - val_loss: 0.0132 - val_accuracy: 0.9964\n",
            "Epoch 14/25\n",
            "355/355 [==============================] - 91s 256ms/step - loss: 0.0053 - accuracy: 0.9986 - val_loss: 0.0132 - val_accuracy: 0.9964\n",
            "Epoch 15/25\n",
            "355/355 [==============================] - 88s 247ms/step - loss: 0.0052 - accuracy: 0.9986 - val_loss: 0.0129 - val_accuracy: 0.9964\n",
            "Epoch 16/25\n",
            "355/355 [==============================] - 89s 250ms/step - loss: 0.0052 - accuracy: 0.9986 - val_loss: 0.0136 - val_accuracy: 0.9964\n",
            "Epoch 17/25\n",
            "355/355 [==============================] - 89s 251ms/step - loss: 0.0052 - accuracy: 0.9986 - val_loss: 0.0138 - val_accuracy: 0.9964\n",
            "Epoch 18/25\n",
            "355/355 [==============================] - 90s 252ms/step - loss: 0.0052 - accuracy: 0.9986 - val_loss: 0.0131 - val_accuracy: 0.9964\n",
            "Epoch 19/25\n",
            "355/355 [==============================] - 88s 247ms/step - loss: 0.0052 - accuracy: 0.9986 - val_loss: 0.0129 - val_accuracy: 0.9964\n",
            "Epoch 20/25\n",
            "355/355 [==============================] - 89s 251ms/step - loss: 0.0052 - accuracy: 0.9986 - val_loss: 0.0128 - val_accuracy: 0.9964\n",
            "Epoch 21/25\n",
            "355/355 [==============================] - 89s 250ms/step - loss: 0.0053 - accuracy: 0.9986 - val_loss: 0.0135 - val_accuracy: 0.9964\n",
            "Epoch 22/25\n",
            "355/355 [==============================] - 89s 250ms/step - loss: 0.0052 - accuracy: 0.9986 - val_loss: 0.0130 - val_accuracy: 0.9964\n",
            "Epoch 23/25\n",
            "355/355 [==============================] - 88s 247ms/step - loss: 0.0051 - accuracy: 0.9986 - val_loss: 0.0130 - val_accuracy: 0.9964\n",
            "Epoch 24/25\n",
            "355/355 [==============================] - 89s 250ms/step - loss: 0.0051 - accuracy: 0.9986 - val_loss: 0.0128 - val_accuracy: 0.9964\n",
            "Epoch 25/25\n",
            "355/355 [==============================] - 89s 250ms/step - loss: 0.0052 - accuracy: 0.9986 - val_loss: 0.0130 - val_accuracy: 0.9964\n"
          ]
        },
        {
          "output_type": "execute_result",
          "data": {
            "text/plain": [
              "<keras.callbacks.History at 0x7f2654677df0>"
            ]
          },
          "metadata": {},
          "execution_count": 18
        }
      ]
    },
    {
      "cell_type": "code",
      "source": [
        "from sklearn.manifold import TSNE\n",
        "import matplotlib.pyplot as plt\n",
        "\n",
        "lda_featuress = np.array(lda_features)\n",
        "# Reduce dimensionality using t-SNE\n",
        "tsne_model = TSNE(n_components=2, random_state=42, verbose=1)\n",
        "tsne_lda = tsne_model.fit_transform(lda_featuress)\n",
        "\n"
      ],
      "metadata": {
        "id": "LoHhR0_tFq-_"
      },
      "execution_count": null,
      "outputs": []
    },
    {
      "cell_type": "code",
      "source": [
        "# Get the dominant topic for each post\n",
        "dominant_topic = np.argmax(lda_features, axis=1)\n",
        "\n",
        "# Define colors for each topic\n",
        "colors = ['r', 'g', 'b', 'c', 'm']\n",
        "\n",
        "# Plot the t-SNE result with different colors for each topic\n",
        "fig, ax = plt.subplots(figsize=(10, 8))\n",
        "for i in range(len(colors)):\n",
        "    ax.scatter(tsne_lda[dominant_topic==i, 0], tsne_lda[dominant_topic==i, 1], alpha=0.5, c=colors[i])\n",
        "ax.set_xlabel('t-SNE Component 1')\n",
        "ax.set_ylabel('t-SNE Component 2')\n",
        "ax.set_title('t-SNE Visualization of LDA Topic Probabilities')\n",
        "plt.show()"
      ],
      "metadata": {
        "colab": {
          "base_uri": "https://localhost:8080/",
          "height": 718
        },
        "id": "JHCgFlKUJmb5",
        "outputId": "7d0c75bf-88b6-42ee-be93-94fbb787fe96"
      },
      "execution_count": null,
      "outputs": [
        {
          "output_type": "display_data",
          "data": {
            "text/plain": [
              "<Figure size 1000x800 with 1 Axes>"
            ],
            "image/png": "[encoded data removed]"
          },
          "metadata": {}
        }
      ]
    },
    {
      "cell_type": "code",
      "source": [
        "# Evaluate model performance on holdout set\n",
        "X_test = pad_sequences(tokenizer.texts_to_sequences(test_df['Post_lemmatized']), maxlen=500)\n",
        "y_pred = model.predict(X_test)\n"
      ],
      "metadata": {
        "colab": {
          "base_uri": "https://localhost:8080/"
        },
        "id": "P5D8lqOi8WrH",
        "outputId": "8c9a0600-3ca3-4fd3-9ac4-e0100a684580"
      },
      "execution_count": null,
      "outputs": [
        {
          "output_type": "stream",
          "name": "stdout",
          "text": [
            "158/158 [==============================] - 5s 31ms/step\n"
          ]
        }
      ]
    },
    {
      "cell_type": "code",
      "source": [
        "from sklearn.preprocessing import LabelEncoder\n",
        "\n",
        "# Encode topic labels as integers\n",
        "label_encoder = LabelEncoder()\n",
        "test_df['Subreddit_encoder'] = label_encoder.fit_transform(test_df['Subreddit'])\n",
        "\n",
        "\n",
        "from keras.utils import to_categorical\n",
        "\n",
        "# Convert target labels to one-hot encoded format\n",
        "y_test = to_categorical(test_df['Subreddit_encoder'], num_classes=5)\n",
        "# Score trained model.\n",
        "scores = model.evaluate(X_test, y_test, verbose=1)\n",
        "print('Test loss:', scores[0])\n",
        "print('Test accuracy:', scores[1])"
      ],
      "metadata": {
        "colab": {
          "base_uri": "https://localhost:8080/"
        },
        "id": "g5cNoPSsJ1hY",
        "outputId": "33fe02de-6715-4611-9b4c-d1367bc8a6a0"
      },
      "execution_count": null,
      "outputs": [
        {
          "output_type": "stream",
          "name": "stdout",
          "text": [
            "158/158 [==============================] - 6s 40ms/step - loss: 0.0048 - accuracy: 0.9988\n",
            "Test loss: 0.004788827616721392\n",
            "Test accuracy: 0.9988085627555847\n"
          ]
        }
      ]
    },
    {
      "cell_type": "code",
      "source": [
        "post = '''\tI spent the last 12 months in a remote wilderness lodge with no internet\n",
        " and cell service, and spent all my time reading. I did a ranking and mini-reviews of the 40ish books I read in that time '''\n",
        "\n",
        "\n",
        "def clean_text(data):\n",
        "\n",
        "    # convert to lower case\n",
        "    data = [word.lower() for word in data.split()]\n",
        "    \n",
        "    # prepare translation table for removing punctuation\n",
        "    table = str.maketrans('', '', string.punctuation)\n",
        "    # remove punctuation from each word\n",
        "    data = [word.translate(table) for word in data]\n",
        "    \n",
        "    # remove tokens with numbers in them\n",
        "    data = [word for word in data if word.isalpha()]   \n",
        "    \n",
        "    # remove stopwords\n",
        "    data = [word for word in data if word not in nltk.corpus.stopwords.words('english')]\n",
        "    \n",
        "    return data\n",
        "\n",
        "\n",
        "post=  clean_text(post)\n",
        "\n",
        "import spacy\n",
        "nlp = spacy.load('en_core_web_sm', disable=['parser', 'ner'])\n",
        "\n",
        "allowed_postags = ['NOUN', 'ADJ', 'VERB', 'ADV']\n",
        "lemmatized_posts = []\n",
        "for pos in post:\n",
        "    doc = nlp(pos)\n",
        "    lemmatized_post = [word.lemma_ for word in doc if word.pos_ in allowed_postags]\n",
        "    lemmatized_posts.append(lemmatized_post)\n",
        "\n",
        "post=lemmatized_posts\n",
        "post = [' '.join(sublist) for sublist in post]\n",
        "post=str(post)\n",
        "print(post)\n"
      ],
      "metadata": {
        "colab": {
          "base_uri": "https://localhost:8080/"
        },
        "id": "pP_kA6iAUnf-",
        "outputId": "0a5fd906-1f92-4d5b-ea3a-9263b35d0d13"
      },
      "execution_count": null,
      "outputs": [
        {
          "output_type": "stream",
          "name": "stdout",
          "text": [
            "['spend', 'last', 'month', 'remote', 'wilderness', 'lodge', 'internet', 'cell', 'service', 'spend', 'time', 'read', 'rank', 'minireview', 'book', 'read', 'time']\n"
          ]
        }
      ]
    },
    {
      "cell_type": "code",
      "source": [
        "from tensorflow.keras.preprocessing.sequence import pad_sequences\n",
        "#from sklearn.preprocessing import LabelEncoder\n",
        "#from keras.preprocessing.text import Tokenizer\n",
        "\n",
        "# Encode topic labels as integers\n",
        "#label_encoder = LabelEncoder()\n",
        "\n",
        "#tokenizer = Tokenizer(num_words=10000)\n",
        "#tokenizer.fit_on_texts(df['Post_lemmatized'])\n",
        "# Tokenize and pad the post\n",
        "post_tokens = tokenizer.texts_to_sequences([post])\n",
        "post_tokens_padded = pad_sequences(post_tokens, maxlen=500)\n",
        "\n",
        "# Make prediction with model\n",
        "prediction = model.predict(post_tokens_padded)\n",
        "print(prediction)\n",
        "# Print predicted topic\n",
        "predicted_topic = label_encoder.inverse_transform([prediction.argmax()])[0]\n",
        "print(\"Predicted topic:\", predicted_topic)\n",
        "\n"
      ],
      "metadata": {
        "colab": {
          "base_uri": "https://localhost:8080/"
        },
        "id": "8mkE-YeJOkzG",
        "outputId": "cfa8c846-2122-4bd3-e1a2-ae0c2b98066a"
      },
      "execution_count": null,
      "outputs": [
        {
          "output_type": "stream",
          "name": "stdout",
          "text": [
            "1/1 [==============================] - 0s 20ms/step\n",
            "[[7.0682617e-08 1.5034338e-08 9.9999511e-01 1.8991492e-11 4.7996091e-06]]\n",
            "Predicted topic: books\n"
          ]
        }
      ]
    },
    {
      "cell_type": "code",
      "source": [
        "post_tokens"
      ],
      "metadata": {
        "colab": {
          "base_uri": "https://localhost:8080/"
        },
        "id": "tVKURbLLftdH",
        "outputId": "45ffb8b1-4353-42aa-8450-30f84ee9b7b2"
      },
      "execution_count": null,
      "outputs": [
        {
          "output_type": "execute_result",
          "data": {
            "text/plain": [
              "[[136, 76, 59, 1151, 7070, 7851, 619, 3307, 211, 136, 4, 25, 1245, 16, 25, 4]]"
            ]
          },
          "metadata": {},
          "execution_count": 101
        }
      ]
    },
    {
      "cell_type": "code",
      "source": [
        "test_df"
      ],
      "metadata": {
        "colab": {
          "base_uri": "https://localhost:8080/",
          "height": 37348
        },
        "id": "ujwWX6SLRuED",
        "outputId": "0f98b915-71d2-465f-ef47-6d9cd66b708e"
      },
      "execution_count": null,
      "outputs": [
        {
          "output_type": "execute_result",
          "data": {
            "text/plain": [
              "                                                   Title  \\\n",
              "3776                  Sustainable fashion. Any thoughts?   \n",
              "24799                              An old team at reddit   \n",
              "14992  Found out my mother was raped by her uncle - I...   \n",
              "13033  I asked my sister to leave the house I inherited.   \n",
              "10226             My youngest son got married yesterday!   \n",
              "...                                                  ...   \n",
              "13199                                 My Mom’s in a Cult   \n",
              "10752  I (22M) feel like I forever ruined my relation...   \n",
              "10907  My stepdad is gonna leave once my mom dies of ...   \n",
              "15275                  My family wants me to wear a bra.   \n",
              "4026   In Africa’s booming startup hubs, the founders...   \n",
              "\n",
              "                                               Post Text      Subreddit  \\\n",
              "3776   Hi!\\n\\nFor a university project we are doing a...        startup   \n",
              "24799  Ellen Pao resigned from reddit today by mutual...  announcements   \n",
              "14992  In regards to Title post i messed up: IT WAS H...         family   \n",
              "13033  A little background info. My mother passed a f...         family   \n",
              "10226  So, my son got married yesterday. I wish the b...         family   \n",
              "...                                                  ...            ...   \n",
              "13199  My mom is a part of the Yahweh Ben Yahweh cult...         family   \n",
              "10752  My biological cousin was legally adopted by my...         family   \n",
              "10907  Hi so some context… My mom and stepdad have be...         family   \n",
              "15275  My family keeps buying and bring me to shop fo...         family   \n",
              "4026   [https://restofworld.org/2022/africas-first-ge...        startup   \n",
              "\n",
              "                                         Post_lemmatized  Subreddit_encoder  \n",
              "3776   ['university', 'project', 'market', 'research'...                  4  \n",
              "24799  ['resign', 'reddit', 'today', 'mutual', 'agree...                  1  \n",
              "14992  ['regard', 'title', 'post', 'mess', 'brother',...                  3  \n",
              "13033  ['little', 'background', 'info', 'mother', 'pa...                  3  \n",
              "10226  ['get', 'marry', 'yesterday', 'wish', 'good', ...                  3  \n",
              "...                                                  ...                ...  \n",
              "13199  ['mom', 'part', 'cult', 'child', 'still', 'day...                  3  \n",
              "10752  ['biological', 'legally', 'adopt', 'parent', '...                  3  \n",
              "10907  ['mom', 'together', 'year', 'honestly', 'okay'...                  3  \n",
              "15275  ['family', 'keep', 'buy', 'bring', 'shop', 'br...                  3  \n",
              "4026                                                  []                  4  \n",
              "\n",
              "[5036 rows x 5 columns]"
            ],
            "text/html": [
              "\n",
              "  <div id=\"df-143d8ed9-0ec7-426e-b6cd-6f8328b6e8f0\">\n",
              "    <div class=\"colab-df-container\">\n",
              "      <div>\n",
              "<style scoped>\n",
              "    .dataframe tbody tr th:only-of-type {\n",
              "        vertical-align: middle;\n",
              "    }\n",
              "\n",
              "    .dataframe tbody tr th {\n",
              "        vertical-align: top;\n",
              "    }\n",
              "\n",
              "    .dataframe thead th {\n",
              "        text-align: right;\n",
              "    }\n",
              "</style>\n",
              "<table border=\"1\" class=\"dataframe\">\n",
              "  <thead>\n",
              "    <tr style=\"text-align: right;\">\n",
              "      <th></th>\n",
              "      <th>Title</th>\n",
              "      <th>Post Text</th>\n",
              "      <th>Subreddit</th>\n",
              "      <th>Post_lemmatized</th>\n",
              "      <th>Subreddit_encoder</th>\n",
              "    </tr>\n",
              "  </thead>\n",
              "  <tbody>\n",
              "    <tr>\n",
              "      <th>3776</th>\n",
              "      <td>Sustainable fashion. Any thoughts?</td>\n",
              "      <td>Hi!\\n\\nFor a university project we are doing a...</td>\n",
              "      <td>startup</td>\n",
              "      <td>['university', 'project', 'market', 'research'...</td>\n",
              "      <td>4</td>\n",
              "    </tr>\n",
              "    <tr>\n",
              "      <th>24799</th>\n",
              "      <td>An old team at reddit</td>\n",
              "      <td>Ellen Pao resigned from reddit today by mutual...</td>\n",
              "      <td>announcements</td>\n",
              "      <td>['resign', 'reddit', 'today', 'mutual', 'agree...</td>\n",
              "      <td>1</td>\n",
              "    </tr>\n",
              "    <tr>\n",
              "      <th>14992</th>\n",
              "      <td>Found out my mother was raped by her uncle - I...</td>\n",
              "      <td>In regards to Title post i messed up: IT WAS H...</td>\n",
              "      <td>family</td>\n",
              "      <td>['regard', 'title', 'post', 'mess', 'brother',...</td>\n",
              "      <td>3</td>\n",
              "    </tr>\n",
              "    <tr>\n",
              "      <th>13033</th>\n",
              "      <td>I asked my sister to leave the house I inherited.</td>\n",
              "      <td>A little background info. My mother passed a f...</td>\n",
              "      <td>family</td>\n",
              "      <td>['little', 'background', 'info', 'mother', 'pa...</td>\n",
              "      <td>3</td>\n",
              "    </tr>\n",
              "    <tr>\n",
              "      <th>10226</th>\n",
              "      <td>My youngest son got married yesterday!</td>\n",
              "      <td>So, my son got married yesterday. I wish the b...</td>\n",
              "      <td>family</td>\n",
              "      <td>['get', 'marry', 'yesterday', 'wish', 'good', ...</td>\n",
              "      <td>3</td>\n",
              "    </tr>\n",
              "    <tr>\n",
              "      <th>...</th>\n",
              "      <td>...</td>\n",
              "      <td>...</td>\n",
              "      <td>...</td>\n",
              "      <td>...</td>\n",
              "      <td>...</td>\n",
              "    </tr>\n",
              "    <tr>\n",
              "      <th>13199</th>\n",
              "      <td>My Mom’s in a Cult</td>\n",
              "      <td>My mom is a part of the Yahweh Ben Yahweh cult...</td>\n",
              "      <td>family</td>\n",
              "      <td>['mom', 'part', 'cult', 'child', 'still', 'day...</td>\n",
              "      <td>3</td>\n",
              "    </tr>\n",
              "    <tr>\n",
              "      <th>10752</th>\n",
              "      <td>I (22M) feel like I forever ruined my relation...</td>\n",
              "      <td>My biological cousin was legally adopted by my...</td>\n",
              "      <td>family</td>\n",
              "      <td>['biological', 'legally', 'adopt', 'parent', '...</td>\n",
              "      <td>3</td>\n",
              "    </tr>\n",
              "    <tr>\n",
              "      <th>10907</th>\n",
              "      <td>My stepdad is gonna leave once my mom dies of ...</td>\n",
              "      <td>Hi so some context… My mom and stepdad have be...</td>\n",
              "      <td>family</td>\n",
              "      <td>['mom', 'together', 'year', 'honestly', 'okay'...</td>\n",
              "      <td>3</td>\n",
              "    </tr>\n",
              "    <tr>\n",
              "      <th>15275</th>\n",
              "      <td>My family wants me to wear a bra.</td>\n",
              "      <td>My family keeps buying and bring me to shop fo...</td>\n",
              "      <td>family</td>\n",
              "      <td>['family', 'keep', 'buy', 'bring', 'shop', 'br...</td>\n",
              "      <td>3</td>\n",
              "    </tr>\n",
              "    <tr>\n",
              "      <th>4026</th>\n",
              "      <td>In Africa’s booming startup hubs, the founders...</td>\n",
              "      <td>[https://restofworld.org/2022/africas-first-ge...</td>\n",
              "      <td>startup</td>\n",
              "      <td>[]</td>\n",
              "      <td>4</td>\n",
              "    </tr>\n",
              "  </tbody>\n",
              "</table>\n",
              "<p>5036 rows × 5 columns</p>\n",
              "</div>\n",
              "      <button class=\"colab-df-convert\" onclick=\"convertToInteractive('df-143d8ed9-0ec7-426e-b6cd-6f8328b6e8f0')\"\n",
              "              title=\"Convert this dataframe to an interactive table.\"\n",
              "              style=\"display:none;\">\n",
              "        \n",
              "  <svg xmlns=\"http://www.w3.org/2000/svg\" height=\"24px\"viewBox=\"0 0 24 24\"\n",
              "       width=\"24px\">\n",
              "    <path d=\"M0 0h24v24H0V0z\" fill=\"none\"/>\n",
              "    <path d=\"M18.56 5.44l.94 2.06.94-2.06 2.06-.94-2.06-.94-.94-2.06-.94 2.06-2.06.94zm-11 1L8.5 8.5l.94-2.06 2.06-.94-2.06-.94L8.5 2.5l-.94 2.06-2.06.94zm10 10l.94 2.06.94-2.06 2.06-.94-2.06-.94-.94-2.06-.94 2.06-2.06.94z\"/><path d=\"M17.41 7.96l-1.37-1.37c-.4-.4-.92-.59-1.43-.59-.52 0-1.04.2-1.43.59L10.3 9.45l-7.72 7.72c-.78.78-.78 2.05 0 2.83L4 21.41c.39.39.9.59 1.41.59.51 0 1.02-.2 1.41-.59l7.78-7.78 2.81-2.81c.8-.78.8-2.07 0-2.86zM5.41 20L4 18.59l7.72-7.72 1.47 1.35L5.41 20z\"/>\n",
              "  </svg>\n",
              "      </button>\n",
              "      \n",
              "  <style>\n",
              "    .colab-df-container {\n",
              "      display:flex;\n",
              "      flex-wrap:wrap;\n",
              "      gap: 12px;\n",
              "    }\n",
              "\n",
              "    .colab-df-convert {\n",
              "      background-color: #E8F0FE;\n",
              "      border: none;\n",
              "      border-radius: 50%;\n",
              "      cursor: pointer;\n",
              "      display: none;\n",
              "      fill: #1967D2;\n",
              "      height: 32px;\n",
              "      padding: 0 0 0 0;\n",
              "      width: 32px;\n",
              "    }\n",
              "\n",
              "    .colab-df-convert:hover {\n",
              "      background-color: #E2EBFA;\n",
              "      box-shadow: 0px 1px 2px rgba(60, 64, 67, 0.3), 0px 1px 3px 1px rgba(60, 64, 67, 0.15);\n",
              "      fill: #174EA6;\n",
              "    }\n",
              "\n",
              "    [theme=dark] .colab-df-convert {\n",
              "      background-color: #3B4455;\n",
              "      fill: #D2E3FC;\n",
              "    }\n",
              "\n",
              "    [theme=dark] .colab-df-convert:hover {\n",
              "      background-color: #434B5C;\n",
              "      box-shadow: 0px 1px 3px 1px rgba(0, 0, 0, 0.15);\n",
              "      filter: drop-shadow(0px 1px 2px rgba(0, 0, 0, 0.3));\n",
              "      fill: #FFFFFF;\n",
              "    }\n",
              "  </style>\n",
              "\n",
              "      <script>\n",
              "        const buttonEl =\n",
              "          document.querySelector('#df-143d8ed9-0ec7-426e-b6cd-6f8328b6e8f0 button.colab-df-convert');\n",
              "        buttonEl.style.display =\n",
              "          google.colab.kernel.accessAllowed ? 'block' : 'none';\n",
              "\n",
              "        async function convertToInteractive(key) {\n",
              "          const element = document.querySelector('#df-143d8ed9-0ec7-426e-b6cd-6f8328b6e8f0');\n",
              "          const dataTable =\n",
              "            await google.colab.kernel.invokeFunction('convertToInteractive',\n",
              "                                                     [key], {});\n",
              "          if (!dataTable) return;\n",
              "\n",
              "          const docLinkHtml = 'Like what you see? Visit the ' +\n",
              "            '<a target=\"_blank\" href=https://colab.research.google.com/notebooks/data_table.ipynb>data table notebook</a>'\n",
              "            + ' to learn more about interactive tables.';\n",
              "          element.innerHTML = '';\n",
              "          dataTable['output_type'] = 'display_data';\n",
              "          await google.colab.output.renderOutput(dataTable, element);\n",
              "          const docLink = document.createElement('div');\n",
              "          docLink.innerHTML = docLinkHtml;\n",
              "          element.appendChild(docLink);\n",
              "        }\n",
              "      </script>\n",
              "    </div>\n",
              "  </div>\n",
              "  "
            ]
          },
          "metadata": {},
          "execution_count": 49
        }
      ]
    },
    {
      "cell_type": "code",
      "source": [
        "model.save('NLP_Model_reddit.h5')"
      ],
      "metadata": {
        "id": "eiTvshpOPFC-"
      },
      "execution_count": null,
      "outputs": []
    }
  ]
}